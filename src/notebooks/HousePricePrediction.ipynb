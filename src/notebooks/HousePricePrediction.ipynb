{
  "cells": [
    {
      "cell_type": "markdown",
      "metadata": {
        "id": "Qc_7hvHBz8Lo"
      },
      "source": [
        "## House Prices: Advanced Regression Techniques"
      ]
    },
    {
      "cell_type": "markdown",
      "metadata": {
        "id": "pVYMyRXSz8Lt"
      },
      "source": [
        "# Feature Selection / Engineering"
      ]
    },
    {
      "cell_type": "markdown",
      "metadata": {
        "id": "oQPGGJFfz8Lv"
      },
      "source": [
        "## Import Libraries"
      ]
    },
    {
      "cell_type": "code",
      "execution_count": 1,
      "metadata": {
        "id": "31J-FREZz8Lv"
      },
      "outputs": [
        {
          "ename": "ModuleNotFoundError",
          "evalue": "No module named 'numpy'",
          "output_type": "error",
          "traceback": [
            "\u001b[0;31m---------------------------------------------------------------------------\u001b[0m",
            "\u001b[0;31mModuleNotFoundError\u001b[0m                       Traceback (most recent call last)",
            "Cell \u001b[0;32mIn[1], line 1\u001b[0m\n\u001b[0;32m----> 1\u001b[0m \u001b[38;5;28;01mimport\u001b[39;00m \u001b[38;5;21;01mnumpy\u001b[39;00m \u001b[38;5;28;01mas\u001b[39;00m \u001b[38;5;21;01mnp\u001b[39;00m\n\u001b[1;32m      2\u001b[0m \u001b[38;5;28;01mimport\u001b[39;00m \u001b[38;5;21;01mpandas\u001b[39;00m \u001b[38;5;28;01mas\u001b[39;00m \u001b[38;5;21;01mpd\u001b[39;00m\n\u001b[1;32m      3\u001b[0m \u001b[38;5;28;01mimport\u001b[39;00m \u001b[38;5;21;01mmatplotlib\u001b[39;00m\u001b[38;5;21;01m.\u001b[39;00m\u001b[38;5;21;01mpyplot\u001b[39;00m \u001b[38;5;28;01mas\u001b[39;00m \u001b[38;5;21;01mplt\u001b[39;00m\n",
            "\u001b[0;31mModuleNotFoundError\u001b[0m: No module named 'numpy'"
          ]
        }
      ],
      "source": [
        "import numpy as np\n",
        "import pandas as pd\n",
        "import matplotlib.pyplot as plt\n",
        "import seaborn as sns"
      ]
    },
    {
      "cell_type": "code",
      "execution_count": null,
      "metadata": {
        "colab": {
          "base_uri": "https://localhost:8080/"
        },
        "id": "b1g-4Ezk0EaD",
        "outputId": "4a190d76-9c6d-4cc2-e82d-746488cc2efc"
      },
      "outputs": [
        {
          "name": "stdout",
          "output_type": "stream",
          "text": [
            "Drive already mounted at /content/drive; to attempt to forcibly remount, call drive.mount(\"/content/drive\", force_remount=True).\n"
          ]
        }
      ],
      "source": [
        "from google.colab import drive\n",
        "drive.mount('/content/drive')"
      ]
    },
    {
      "cell_type": "code",
      "execution_count": null,
      "metadata": {
        "colab": {
          "base_uri": "https://localhost:8080/",
          "height": 488
        },
        "id": "L2tDqhjPz8Lx",
        "outputId": "201dbae4-deb8-4920-bd82-ff14e819ea44",
        "scrolled": true
      },
      "outputs": [
        {
          "data": {
            "text/html": [
              "\n",
              "  <div id=\"df-442994df-714d-4fab-94c5-fa58025ecc87\">\n",
              "    <div class=\"colab-df-container\">\n",
              "      <div>\n",
              "<style scoped>\n",
              "    .dataframe tbody tr th:only-of-type {\n",
              "        vertical-align: middle;\n",
              "    }\n",
              "\n",
              "    .dataframe tbody tr th {\n",
              "        vertical-align: top;\n",
              "    }\n",
              "\n",
              "    .dataframe thead th {\n",
              "        text-align: right;\n",
              "    }\n",
              "</style>\n",
              "<table border=\"1\" class=\"dataframe\">\n",
              "  <thead>\n",
              "    <tr style=\"text-align: right;\">\n",
              "      <th></th>\n",
              "      <th>1stFlrSF</th>\n",
              "      <th>2ndFlrSF</th>\n",
              "      <th>3SsnPorch</th>\n",
              "      <th>BedroomAbvGr</th>\n",
              "      <th>BldgType</th>\n",
              "      <th>BsmtCond</th>\n",
              "      <th>BsmtExposure</th>\n",
              "      <th>BsmtFinSF1</th>\n",
              "      <th>BsmtFinSF2</th>\n",
              "      <th>BsmtFinType1</th>\n",
              "      <th>...</th>\n",
              "      <th>SaleType</th>\n",
              "      <th>ScreenPorch</th>\n",
              "      <th>Street</th>\n",
              "      <th>TotRmsAbvGrd</th>\n",
              "      <th>TotalBsmtSF</th>\n",
              "      <th>Utilities</th>\n",
              "      <th>WoodDeckSF</th>\n",
              "      <th>YearBuilt</th>\n",
              "      <th>YearRemodAdd</th>\n",
              "      <th>YrSold</th>\n",
              "    </tr>\n",
              "  </thead>\n",
              "  <tbody>\n",
              "    <tr>\n",
              "      <th>0</th>\n",
              "      <td>6.753438</td>\n",
              "      <td>6.751101</td>\n",
              "      <td>0.0</td>\n",
              "      <td>1.386294</td>\n",
              "      <td>1Fam</td>\n",
              "      <td>3</td>\n",
              "      <td>-1</td>\n",
              "      <td>6.561031</td>\n",
              "      <td>0.0</td>\n",
              "      <td>6</td>\n",
              "      <td>...</td>\n",
              "      <td>WD</td>\n",
              "      <td>0.0</td>\n",
              "      <td>Pave</td>\n",
              "      <td>2.197225</td>\n",
              "      <td>6.753438</td>\n",
              "      <td>3</td>\n",
              "      <td>0.000000</td>\n",
              "      <td>2003</td>\n",
              "      <td>2003</td>\n",
              "      <td>2008</td>\n",
              "    </tr>\n",
              "    <tr>\n",
              "      <th>1</th>\n",
              "      <td>7.141245</td>\n",
              "      <td>0.000000</td>\n",
              "      <td>0.0</td>\n",
              "      <td>1.386294</td>\n",
              "      <td>1Fam</td>\n",
              "      <td>3</td>\n",
              "      <td>3</td>\n",
              "      <td>6.886532</td>\n",
              "      <td>0.0</td>\n",
              "      <td>5</td>\n",
              "      <td>...</td>\n",
              "      <td>WD</td>\n",
              "      <td>0.0</td>\n",
              "      <td>Pave</td>\n",
              "      <td>1.945910</td>\n",
              "      <td>7.141245</td>\n",
              "      <td>3</td>\n",
              "      <td>5.700444</td>\n",
              "      <td>1976</td>\n",
              "      <td>1976</td>\n",
              "      <td>2007</td>\n",
              "    </tr>\n",
              "    <tr>\n",
              "      <th>2</th>\n",
              "      <td>6.825460</td>\n",
              "      <td>6.765039</td>\n",
              "      <td>0.0</td>\n",
              "      <td>1.386294</td>\n",
              "      <td>1Fam</td>\n",
              "      <td>3</td>\n",
              "      <td>1</td>\n",
              "      <td>6.188264</td>\n",
              "      <td>0.0</td>\n",
              "      <td>6</td>\n",
              "      <td>...</td>\n",
              "      <td>WD</td>\n",
              "      <td>0.0</td>\n",
              "      <td>Pave</td>\n",
              "      <td>1.945910</td>\n",
              "      <td>6.825460</td>\n",
              "      <td>3</td>\n",
              "      <td>0.000000</td>\n",
              "      <td>2001</td>\n",
              "      <td>2002</td>\n",
              "      <td>2008</td>\n",
              "    </tr>\n",
              "    <tr>\n",
              "      <th>3</th>\n",
              "      <td>6.869014</td>\n",
              "      <td>6.629363</td>\n",
              "      <td>0.0</td>\n",
              "      <td>1.386294</td>\n",
              "      <td>1Fam</td>\n",
              "      <td>4</td>\n",
              "      <td>-1</td>\n",
              "      <td>5.379897</td>\n",
              "      <td>0.0</td>\n",
              "      <td>5</td>\n",
              "      <td>...</td>\n",
              "      <td>WD</td>\n",
              "      <td>0.0</td>\n",
              "      <td>Pave</td>\n",
              "      <td>2.079442</td>\n",
              "      <td>6.629363</td>\n",
              "      <td>3</td>\n",
              "      <td>0.000000</td>\n",
              "      <td>1915</td>\n",
              "      <td>1970</td>\n",
              "      <td>2006</td>\n",
              "    </tr>\n",
              "    <tr>\n",
              "      <th>4</th>\n",
              "      <td>7.044033</td>\n",
              "      <td>6.960348</td>\n",
              "      <td>0.0</td>\n",
              "      <td>1.609438</td>\n",
              "      <td>1Fam</td>\n",
              "      <td>3</td>\n",
              "      <td>2</td>\n",
              "      <td>6.486161</td>\n",
              "      <td>0.0</td>\n",
              "      <td>6</td>\n",
              "      <td>...</td>\n",
              "      <td>WD</td>\n",
              "      <td>0.0</td>\n",
              "      <td>Pave</td>\n",
              "      <td>2.302585</td>\n",
              "      <td>7.044033</td>\n",
              "      <td>3</td>\n",
              "      <td>5.262690</td>\n",
              "      <td>2000</td>\n",
              "      <td>2000</td>\n",
              "      <td>2008</td>\n",
              "    </tr>\n",
              "    <tr>\n",
              "      <th>...</th>\n",
              "      <td>...</td>\n",
              "      <td>...</td>\n",
              "      <td>...</td>\n",
              "      <td>...</td>\n",
              "      <td>...</td>\n",
              "      <td>...</td>\n",
              "      <td>...</td>\n",
              "      <td>...</td>\n",
              "      <td>...</td>\n",
              "      <td>...</td>\n",
              "      <td>...</td>\n",
              "      <td>...</td>\n",
              "      <td>...</td>\n",
              "      <td>...</td>\n",
              "      <td>...</td>\n",
              "      <td>...</td>\n",
              "      <td>...</td>\n",
              "      <td>...</td>\n",
              "      <td>...</td>\n",
              "      <td>...</td>\n",
              "      <td>...</td>\n",
              "    </tr>\n",
              "    <tr>\n",
              "      <th>2914</th>\n",
              "      <td>6.304449</td>\n",
              "      <td>6.304449</td>\n",
              "      <td>0.0</td>\n",
              "      <td>1.386294</td>\n",
              "      <td>Twnhs</td>\n",
              "      <td>3</td>\n",
              "      <td>-1</td>\n",
              "      <td>0.000000</td>\n",
              "      <td>0.0</td>\n",
              "      <td>1</td>\n",
              "      <td>...</td>\n",
              "      <td>WD</td>\n",
              "      <td>0.0</td>\n",
              "      <td>Pave</td>\n",
              "      <td>1.791759</td>\n",
              "      <td>6.304449</td>\n",
              "      <td>3</td>\n",
              "      <td>0.000000</td>\n",
              "      <td>1970</td>\n",
              "      <td>1970</td>\n",
              "      <td>2006</td>\n",
              "    </tr>\n",
              "    <tr>\n",
              "      <th>2915</th>\n",
              "      <td>6.304449</td>\n",
              "      <td>6.304449</td>\n",
              "      <td>0.0</td>\n",
              "      <td>1.386294</td>\n",
              "      <td>TwnhsE</td>\n",
              "      <td>3</td>\n",
              "      <td>-1</td>\n",
              "      <td>5.533389</td>\n",
              "      <td>0.0</td>\n",
              "      <td>3</td>\n",
              "      <td>...</td>\n",
              "      <td>WD</td>\n",
              "      <td>0.0</td>\n",
              "      <td>Pave</td>\n",
              "      <td>1.945910</td>\n",
              "      <td>6.304449</td>\n",
              "      <td>3</td>\n",
              "      <td>0.000000</td>\n",
              "      <td>1970</td>\n",
              "      <td>1970</td>\n",
              "      <td>2006</td>\n",
              "    </tr>\n",
              "    <tr>\n",
              "      <th>2916</th>\n",
              "      <td>7.110696</td>\n",
              "      <td>0.000000</td>\n",
              "      <td>0.0</td>\n",
              "      <td>1.609438</td>\n",
              "      <td>1Fam</td>\n",
              "      <td>3</td>\n",
              "      <td>-1</td>\n",
              "      <td>7.110696</td>\n",
              "      <td>0.0</td>\n",
              "      <td>5</td>\n",
              "      <td>...</td>\n",
              "      <td>WD</td>\n",
              "      <td>0.0</td>\n",
              "      <td>Pave</td>\n",
              "      <td>2.079442</td>\n",
              "      <td>7.110696</td>\n",
              "      <td>3</td>\n",
              "      <td>6.163315</td>\n",
              "      <td>1960</td>\n",
              "      <td>1996</td>\n",
              "      <td>2006</td>\n",
              "    </tr>\n",
              "    <tr>\n",
              "      <th>2917</th>\n",
              "      <td>6.878326</td>\n",
              "      <td>0.000000</td>\n",
              "      <td>0.0</td>\n",
              "      <td>1.386294</td>\n",
              "      <td>1Fam</td>\n",
              "      <td>3</td>\n",
              "      <td>2</td>\n",
              "      <td>5.823046</td>\n",
              "      <td>0.0</td>\n",
              "      <td>6</td>\n",
              "      <td>...</td>\n",
              "      <td>WD</td>\n",
              "      <td>0.0</td>\n",
              "      <td>Pave</td>\n",
              "      <td>1.945910</td>\n",
              "      <td>6.816736</td>\n",
              "      <td>3</td>\n",
              "      <td>4.394449</td>\n",
              "      <td>1992</td>\n",
              "      <td>1992</td>\n",
              "      <td>2006</td>\n",
              "    </tr>\n",
              "    <tr>\n",
              "      <th>2918</th>\n",
              "      <td>6.904751</td>\n",
              "      <td>6.912743</td>\n",
              "      <td>0.0</td>\n",
              "      <td>1.386294</td>\n",
              "      <td>1Fam</td>\n",
              "      <td>3</td>\n",
              "      <td>2</td>\n",
              "      <td>6.632002</td>\n",
              "      <td>0.0</td>\n",
              "      <td>2</td>\n",
              "      <td>...</td>\n",
              "      <td>WD</td>\n",
              "      <td>0.0</td>\n",
              "      <td>Pave</td>\n",
              "      <td>2.302585</td>\n",
              "      <td>6.904751</td>\n",
              "      <td>3</td>\n",
              "      <td>5.252273</td>\n",
              "      <td>1993</td>\n",
              "      <td>1994</td>\n",
              "      <td>2006</td>\n",
              "    </tr>\n",
              "  </tbody>\n",
              "</table>\n",
              "<p>2919 rows × 74 columns</p>\n",
              "</div>\n",
              "      <button class=\"colab-df-convert\" onclick=\"convertToInteractive('df-442994df-714d-4fab-94c5-fa58025ecc87')\"\n",
              "              title=\"Convert this dataframe to an interactive table.\"\n",
              "              style=\"display:none;\">\n",
              "        \n",
              "  <svg xmlns=\"http://www.w3.org/2000/svg\" height=\"24px\"viewBox=\"0 0 24 24\"\n",
              "       width=\"24px\">\n",
              "    <path d=\"M0 0h24v24H0V0z\" fill=\"none\"/>\n",
              "    <path d=\"M18.56 5.44l.94 2.06.94-2.06 2.06-.94-2.06-.94-.94-2.06-.94 2.06-2.06.94zm-11 1L8.5 8.5l.94-2.06 2.06-.94-2.06-.94L8.5 2.5l-.94 2.06-2.06.94zm10 10l.94 2.06.94-2.06 2.06-.94-2.06-.94-.94-2.06-.94 2.06-2.06.94z\"/><path d=\"M17.41 7.96l-1.37-1.37c-.4-.4-.92-.59-1.43-.59-.52 0-1.04.2-1.43.59L10.3 9.45l-7.72 7.72c-.78.78-.78 2.05 0 2.83L4 21.41c.39.39.9.59 1.41.59.51 0 1.02-.2 1.41-.59l7.78-7.78 2.81-2.81c.8-.78.8-2.07 0-2.86zM5.41 20L4 18.59l7.72-7.72 1.47 1.35L5.41 20z\"/>\n",
              "  </svg>\n",
              "      </button>\n",
              "      \n",
              "  <style>\n",
              "    .colab-df-container {\n",
              "      display:flex;\n",
              "      flex-wrap:wrap;\n",
              "      gap: 12px;\n",
              "    }\n",
              "\n",
              "    .colab-df-convert {\n",
              "      background-color: #E8F0FE;\n",
              "      border: none;\n",
              "      border-radius: 50%;\n",
              "      cursor: pointer;\n",
              "      display: none;\n",
              "      fill: #1967D2;\n",
              "      height: 32px;\n",
              "      padding: 0 0 0 0;\n",
              "      width: 32px;\n",
              "    }\n",
              "\n",
              "    .colab-df-convert:hover {\n",
              "      background-color: #E2EBFA;\n",
              "      box-shadow: 0px 1px 2px rgba(60, 64, 67, 0.3), 0px 1px 3px 1px rgba(60, 64, 67, 0.15);\n",
              "      fill: #174EA6;\n",
              "    }\n",
              "\n",
              "    [theme=dark] .colab-df-convert {\n",
              "      background-color: #3B4455;\n",
              "      fill: #D2E3FC;\n",
              "    }\n",
              "\n",
              "    [theme=dark] .colab-df-convert:hover {\n",
              "      background-color: #434B5C;\n",
              "      box-shadow: 0px 1px 3px 1px rgba(0, 0, 0, 0.15);\n",
              "      filter: drop-shadow(0px 1px 2px rgba(0, 0, 0, 0.3));\n",
              "      fill: #FFFFFF;\n",
              "    }\n",
              "  </style>\n",
              "\n",
              "      <script>\n",
              "        const buttonEl =\n",
              "          document.querySelector('#df-442994df-714d-4fab-94c5-fa58025ecc87 button.colab-df-convert');\n",
              "        buttonEl.style.display =\n",
              "          google.colab.kernel.accessAllowed ? 'block' : 'none';\n",
              "\n",
              "        async function convertToInteractive(key) {\n",
              "          const element = document.querySelector('#df-442994df-714d-4fab-94c5-fa58025ecc87');\n",
              "          const dataTable =\n",
              "            await google.colab.kernel.invokeFunction('convertToInteractive',\n",
              "                                                     [key], {});\n",
              "          if (!dataTable) return;\n",
              "\n",
              "          const docLinkHtml = 'Like what you see? Visit the ' +\n",
              "            '<a target=\"_blank\" href=https://colab.research.google.com/notebooks/data_table.ipynb>data table notebook</a>'\n",
              "            + ' to learn more about interactive tables.';\n",
              "          element.innerHTML = '';\n",
              "          dataTable['output_type'] = 'display_data';\n",
              "          await google.colab.output.renderOutput(dataTable, element);\n",
              "          const docLink = document.createElement('div');\n",
              "          docLink.innerHTML = docLinkHtml;\n",
              "          element.appendChild(docLink);\n",
              "        }\n",
              "      </script>\n",
              "    </div>\n",
              "  </div>\n",
              "  "
            ],
            "text/plain": [
              "      1stFlrSF  2ndFlrSF  3SsnPorch  BedroomAbvGr BldgType  BsmtCond  \\\n",
              "0     6.753438  6.751101        0.0      1.386294     1Fam         3   \n",
              "1     7.141245  0.000000        0.0      1.386294     1Fam         3   \n",
              "2     6.825460  6.765039        0.0      1.386294     1Fam         3   \n",
              "3     6.869014  6.629363        0.0      1.386294     1Fam         4   \n",
              "4     7.044033  6.960348        0.0      1.609438     1Fam         3   \n",
              "...        ...       ...        ...           ...      ...       ...   \n",
              "2914  6.304449  6.304449        0.0      1.386294    Twnhs         3   \n",
              "2915  6.304449  6.304449        0.0      1.386294   TwnhsE         3   \n",
              "2916  7.110696  0.000000        0.0      1.609438     1Fam         3   \n",
              "2917  6.878326  0.000000        0.0      1.386294     1Fam         3   \n",
              "2918  6.904751  6.912743        0.0      1.386294     1Fam         3   \n",
              "\n",
              "      BsmtExposure  BsmtFinSF1  BsmtFinSF2  BsmtFinType1  ...  SaleType  \\\n",
              "0               -1    6.561031         0.0             6  ...        WD   \n",
              "1                3    6.886532         0.0             5  ...        WD   \n",
              "2                1    6.188264         0.0             6  ...        WD   \n",
              "3               -1    5.379897         0.0             5  ...        WD   \n",
              "4                2    6.486161         0.0             6  ...        WD   \n",
              "...            ...         ...         ...           ...  ...       ...   \n",
              "2914            -1    0.000000         0.0             1  ...        WD   \n",
              "2915            -1    5.533389         0.0             3  ...        WD   \n",
              "2916            -1    7.110696         0.0             5  ...        WD   \n",
              "2917             2    5.823046         0.0             6  ...        WD   \n",
              "2918             2    6.632002         0.0             2  ...        WD   \n",
              "\n",
              "      ScreenPorch  Street  TotRmsAbvGrd  TotalBsmtSF Utilities WoodDeckSF  \\\n",
              "0             0.0    Pave      2.197225     6.753438         3   0.000000   \n",
              "1             0.0    Pave      1.945910     7.141245         3   5.700444   \n",
              "2             0.0    Pave      1.945910     6.825460         3   0.000000   \n",
              "3             0.0    Pave      2.079442     6.629363         3   0.000000   \n",
              "4             0.0    Pave      2.302585     7.044033         3   5.262690   \n",
              "...           ...     ...           ...          ...       ...        ...   \n",
              "2914          0.0    Pave      1.791759     6.304449         3   0.000000   \n",
              "2915          0.0    Pave      1.945910     6.304449         3   0.000000   \n",
              "2916          0.0    Pave      2.079442     7.110696         3   6.163315   \n",
              "2917          0.0    Pave      1.945910     6.816736         3   4.394449   \n",
              "2918          0.0    Pave      2.302585     6.904751         3   5.252273   \n",
              "\n",
              "     YearBuilt YearRemodAdd  YrSold  \n",
              "0         2003         2003    2008  \n",
              "1         1976         1976    2007  \n",
              "2         2001         2002    2008  \n",
              "3         1915         1970    2006  \n",
              "4         2000         2000    2008  \n",
              "...        ...          ...     ...  \n",
              "2914      1970         1970    2006  \n",
              "2915      1970         1970    2006  \n",
              "2916      1960         1996    2006  \n",
              "2917      1992         1992    2006  \n",
              "2918      1993         1994    2006  \n",
              "\n",
              "[2919 rows x 74 columns]"
            ]
          },
          "execution_count": 42,
          "metadata": {},
          "output_type": "execute_result"
        }
      ],
      "source": [
        "df = pd.read_csv('/content/drive/MyDrive/kaggle/df_for_feature_engineering.csv')\n",
        "train = pd.read_csv('/content/drive/MyDrive/kaggle/train.csv')\n",
        "test = pd.read_csv('/content/drive/MyDrive/kaggle/test.csv')\n",
        "df"
      ]
    },
    {
      "cell_type": "code",
      "execution_count": null,
      "metadata": {
        "id": "NMVX3hOpz8Ly",
        "scrolled": true
      },
      "outputs": [],
      "source": [
        "#df = df.set_index('Id')"
      ]
    },
    {
      "cell_type": "markdown",
      "metadata": {
        "id": "t6AFbyy9z8Ly"
      },
      "source": [
        "# Drop feature"
      ]
    },
    {
      "cell_type": "code",
      "execution_count": null,
      "metadata": {
        "id": "pPjJv6n_z8Ly"
      },
      "outputs": [],
      "source": [
        "df = df.drop(['YrSold',\n",
        " 'LowQualFinSF',\n",
        " 'MiscVal',\n",
        " 'BsmtHalfBath',\n",
        " 'BsmtFinSF2',\n",
        " '3SsnPorch',\n",
        " 'MoSold'],axis=1)"
      ]
    },
    {
      "cell_type": "code",
      "execution_count": null,
      "metadata": {
        "colab": {
          "base_uri": "https://localhost:8080/"
        },
        "id": "nGznc9Fxz8Lz",
        "outputId": "37a39184-4612-40a8-ca89-d73478194d1c"
      },
      "outputs": [
        {
          "data": {
            "text/plain": [
              "['1stFlrSF',\n",
              " '2ndFlrSF',\n",
              " 'BedroomAbvGr',\n",
              " 'BsmtCond',\n",
              " 'BsmtExposure',\n",
              " 'BsmtFinSF1',\n",
              " 'BsmtFinType1',\n",
              " 'BsmtFinType2',\n",
              " 'BsmtFullBath',\n",
              " 'BsmtQual',\n",
              " 'BsmtUnfSF',\n",
              " 'EnclosedPorch',\n",
              " 'ExterCond',\n",
              " 'ExterQual',\n",
              " 'Fireplaces',\n",
              " 'FullBath',\n",
              " 'Functional',\n",
              " 'GarageArea',\n",
              " 'GarageCars',\n",
              " 'GarageCond',\n",
              " 'GarageFinish',\n",
              " 'GarageQual',\n",
              " 'GarageYrBlt',\n",
              " 'GrLivArea',\n",
              " 'HalfBath',\n",
              " 'HeatingQC',\n",
              " 'KitchenAbvGr',\n",
              " 'KitchenQual',\n",
              " 'LotArea',\n",
              " 'LotFrontage',\n",
              " 'MSSubClass',\n",
              " 'MasVnrArea',\n",
              " 'OpenPorchSF',\n",
              " 'OverallCond',\n",
              " 'OverallQual',\n",
              " 'PavedDrive',\n",
              " 'PoolArea',\n",
              " 'ScreenPorch',\n",
              " 'TotRmsAbvGrd',\n",
              " 'TotalBsmtSF',\n",
              " 'Utilities',\n",
              " 'WoodDeckSF',\n",
              " 'YearBuilt',\n",
              " 'YearRemodAdd']"
            ]
          },
          "execution_count": 45,
          "metadata": {},
          "output_type": "execute_result"
        }
      ],
      "source": [
        "quan = list(df.loc[:,df.dtypes != 'object'].columns.values)\n",
        "quan"
      ]
    },
    {
      "cell_type": "code",
      "execution_count": null,
      "metadata": {
        "id": "Wqa9HzVaz8Lz"
      },
      "outputs": [],
      "source": [
        "skewd_feat = ['1stFlrSF',\n",
        " '2ndFlrSF',\n",
        " 'BedroomAbvGr',\n",
        " 'BsmtFinSF1',\n",
        " 'BsmtFullBath',\n",
        " 'BsmtUnfSF',\n",
        " 'EnclosedPorch',\n",
        " 'Fireplaces',\n",
        " 'FullBath',\n",
        " 'GarageArea',\n",
        " 'GarageCars',\n",
        " 'GrLivArea',\n",
        " 'HalfBath',\n",
        " 'KitchenAbvGr',\n",
        " 'LotArea',\n",
        " 'LotFrontage',\n",
        " 'MasVnrArea',\n",
        " 'OpenPorchSF',\n",
        " 'PoolArea',\n",
        " 'ScreenPorch',\n",
        " 'TotRmsAbvGrd',\n",
        " 'TotalBsmtSF',\n",
        " 'WoodDeckSF']\n",
        "#  '3SsnPorch',  'BsmtFinSF2',  'BsmtHalfBath',  'LowQualFinSF', 'MiscVal'"
      ]
    },
    {
      "cell_type": "code",
      "execution_count": null,
      "metadata": {
        "id": "SHiB3o3Rz8L0"
      },
      "outputs": [],
      "source": [
        "# Decrease the skewness of the data\n",
        "for i in skewd_feat:\n",
        "    df[i] = np.log(df[i] + 1)\n",
        "\n",
        "SalePrice = np.log(train['SalePrice'] + 1)"
      ]
    },
    {
      "cell_type": "markdown",
      "metadata": {
        "id": "UFqob2dCz8L0"
      },
      "source": [
        "# decrease the skewnwnes of the data\n",
        "for i in skewed_features:\n",
        "    df[i] = np.log(df[i] + 1)\n",
        "    "
      ]
    },
    {
      "cell_type": "code",
      "execution_count": null,
      "metadata": {
        "colab": {
          "base_uri": "https://localhost:8080/",
          "height": 488
        },
        "id": "LnXVpz_yz8L1",
        "outputId": "372f3064-5ec3-4575-b243-f43420f8fb31"
      },
      "outputs": [
        {
          "data": {
            "text/html": [
              "\n",
              "  <div id=\"df-41ac658d-04f4-498c-9799-4a80685fef90\">\n",
              "    <div class=\"colab-df-container\">\n",
              "      <div>\n",
              "<style scoped>\n",
              "    .dataframe tbody tr th:only-of-type {\n",
              "        vertical-align: middle;\n",
              "    }\n",
              "\n",
              "    .dataframe tbody tr th {\n",
              "        vertical-align: top;\n",
              "    }\n",
              "\n",
              "    .dataframe thead th {\n",
              "        text-align: right;\n",
              "    }\n",
              "</style>\n",
              "<table border=\"1\" class=\"dataframe\">\n",
              "  <thead>\n",
              "    <tr style=\"text-align: right;\">\n",
              "      <th></th>\n",
              "      <th>1stFlrSF</th>\n",
              "      <th>2ndFlrSF</th>\n",
              "      <th>BedroomAbvGr</th>\n",
              "      <th>BldgType</th>\n",
              "      <th>BsmtCond</th>\n",
              "      <th>BsmtExposure</th>\n",
              "      <th>BsmtFinSF1</th>\n",
              "      <th>BsmtFinType1</th>\n",
              "      <th>BsmtFinType2</th>\n",
              "      <th>BsmtFullBath</th>\n",
              "      <th>...</th>\n",
              "      <th>SaleCondition</th>\n",
              "      <th>SaleType</th>\n",
              "      <th>ScreenPorch</th>\n",
              "      <th>Street</th>\n",
              "      <th>TotRmsAbvGrd</th>\n",
              "      <th>TotalBsmtSF</th>\n",
              "      <th>Utilities</th>\n",
              "      <th>WoodDeckSF</th>\n",
              "      <th>YearBuilt</th>\n",
              "      <th>YearRemodAdd</th>\n",
              "    </tr>\n",
              "  </thead>\n",
              "  <tbody>\n",
              "    <tr>\n",
              "      <th>0</th>\n",
              "      <td>2.048136</td>\n",
              "      <td>2.047835</td>\n",
              "      <td>0.869742</td>\n",
              "      <td>1Fam</td>\n",
              "      <td>3</td>\n",
              "      <td>-1</td>\n",
              "      <td>2.023008</td>\n",
              "      <td>6</td>\n",
              "      <td>1</td>\n",
              "      <td>0.526589</td>\n",
              "      <td>...</td>\n",
              "      <td>Normal</td>\n",
              "      <td>WD</td>\n",
              "      <td>0.0</td>\n",
              "      <td>Pave</td>\n",
              "      <td>1.162283</td>\n",
              "      <td>2.048136</td>\n",
              "      <td>3</td>\n",
              "      <td>0.000000</td>\n",
              "      <td>2003</td>\n",
              "      <td>2003</td>\n",
              "    </tr>\n",
              "    <tr>\n",
              "      <th>1</th>\n",
              "      <td>2.096943</td>\n",
              "      <td>0.000000</td>\n",
              "      <td>0.869742</td>\n",
              "      <td>1Fam</td>\n",
              "      <td>3</td>\n",
              "      <td>3</td>\n",
              "      <td>2.065156</td>\n",
              "      <td>5</td>\n",
              "      <td>1</td>\n",
              "      <td>0.000000</td>\n",
              "      <td>...</td>\n",
              "      <td>Normal</td>\n",
              "      <td>WD</td>\n",
              "      <td>0.0</td>\n",
              "      <td>Pave</td>\n",
              "      <td>1.080418</td>\n",
              "      <td>2.096943</td>\n",
              "      <td>3</td>\n",
              "      <td>1.902174</td>\n",
              "      <td>1976</td>\n",
              "      <td>1976</td>\n",
              "    </tr>\n",
              "    <tr>\n",
              "      <th>2</th>\n",
              "      <td>2.057383</td>\n",
              "      <td>2.049631</td>\n",
              "      <td>0.869742</td>\n",
              "      <td>1Fam</td>\n",
              "      <td>3</td>\n",
              "      <td>1</td>\n",
              "      <td>1.972450</td>\n",
              "      <td>6</td>\n",
              "      <td>1</td>\n",
              "      <td>0.526589</td>\n",
              "      <td>...</td>\n",
              "      <td>Normal</td>\n",
              "      <td>WD</td>\n",
              "      <td>0.0</td>\n",
              "      <td>Pave</td>\n",
              "      <td>1.080418</td>\n",
              "      <td>2.057383</td>\n",
              "      <td>3</td>\n",
              "      <td>0.000000</td>\n",
              "      <td>2001</td>\n",
              "      <td>2002</td>\n",
              "    </tr>\n",
              "    <tr>\n",
              "      <th>3</th>\n",
              "      <td>2.062933</td>\n",
              "      <td>2.032004</td>\n",
              "      <td>0.869742</td>\n",
              "      <td>1Fam</td>\n",
              "      <td>4</td>\n",
              "      <td>-1</td>\n",
              "      <td>1.853152</td>\n",
              "      <td>5</td>\n",
              "      <td>1</td>\n",
              "      <td>0.526589</td>\n",
              "      <td>...</td>\n",
              "      <td>Abnorml</td>\n",
              "      <td>WD</td>\n",
              "      <td>0.0</td>\n",
              "      <td>Pave</td>\n",
              "      <td>1.124748</td>\n",
              "      <td>2.032004</td>\n",
              "      <td>3</td>\n",
              "      <td>0.000000</td>\n",
              "      <td>1915</td>\n",
              "      <td>1970</td>\n",
              "    </tr>\n",
              "    <tr>\n",
              "      <th>4</th>\n",
              "      <td>2.084931</td>\n",
              "      <td>2.074473</td>\n",
              "      <td>0.959135</td>\n",
              "      <td>1Fam</td>\n",
              "      <td>3</td>\n",
              "      <td>2</td>\n",
              "      <td>2.013056</td>\n",
              "      <td>6</td>\n",
              "      <td>1</td>\n",
              "      <td>0.526589</td>\n",
              "      <td>...</td>\n",
              "      <td>Normal</td>\n",
              "      <td>WD</td>\n",
              "      <td>0.0</td>\n",
              "      <td>Pave</td>\n",
              "      <td>1.194706</td>\n",
              "      <td>2.084931</td>\n",
              "      <td>3</td>\n",
              "      <td>1.834610</td>\n",
              "      <td>2000</td>\n",
              "      <td>2000</td>\n",
              "    </tr>\n",
              "    <tr>\n",
              "      <th>...</th>\n",
              "      <td>...</td>\n",
              "      <td>...</td>\n",
              "      <td>...</td>\n",
              "      <td>...</td>\n",
              "      <td>...</td>\n",
              "      <td>...</td>\n",
              "      <td>...</td>\n",
              "      <td>...</td>\n",
              "      <td>...</td>\n",
              "      <td>...</td>\n",
              "      <td>...</td>\n",
              "      <td>...</td>\n",
              "      <td>...</td>\n",
              "      <td>...</td>\n",
              "      <td>...</td>\n",
              "      <td>...</td>\n",
              "      <td>...</td>\n",
              "      <td>...</td>\n",
              "      <td>...</td>\n",
              "      <td>...</td>\n",
              "      <td>...</td>\n",
              "    </tr>\n",
              "    <tr>\n",
              "      <th>2914</th>\n",
              "      <td>1.988484</td>\n",
              "      <td>1.988484</td>\n",
              "      <td>0.869742</td>\n",
              "      <td>Twnhs</td>\n",
              "      <td>3</td>\n",
              "      <td>-1</td>\n",
              "      <td>0.000000</td>\n",
              "      <td>1</td>\n",
              "      <td>1</td>\n",
              "      <td>0.000000</td>\n",
              "      <td>...</td>\n",
              "      <td>Normal</td>\n",
              "      <td>WD</td>\n",
              "      <td>0.0</td>\n",
              "      <td>Pave</td>\n",
              "      <td>1.026672</td>\n",
              "      <td>1.988484</td>\n",
              "      <td>3</td>\n",
              "      <td>0.000000</td>\n",
              "      <td>1970</td>\n",
              "      <td>1970</td>\n",
              "    </tr>\n",
              "    <tr>\n",
              "      <th>2915</th>\n",
              "      <td>1.988484</td>\n",
              "      <td>1.988484</td>\n",
              "      <td>0.869742</td>\n",
              "      <td>TwnhsE</td>\n",
              "      <td>3</td>\n",
              "      <td>-1</td>\n",
              "      <td>1.876926</td>\n",
              "      <td>3</td>\n",
              "      <td>1</td>\n",
              "      <td>0.000000</td>\n",
              "      <td>...</td>\n",
              "      <td>Abnorml</td>\n",
              "      <td>WD</td>\n",
              "      <td>0.0</td>\n",
              "      <td>Pave</td>\n",
              "      <td>1.080418</td>\n",
              "      <td>1.988484</td>\n",
              "      <td>3</td>\n",
              "      <td>0.000000</td>\n",
              "      <td>1970</td>\n",
              "      <td>1970</td>\n",
              "    </tr>\n",
              "    <tr>\n",
              "      <th>2916</th>\n",
              "      <td>2.093184</td>\n",
              "      <td>0.000000</td>\n",
              "      <td>0.959135</td>\n",
              "      <td>1Fam</td>\n",
              "      <td>3</td>\n",
              "      <td>-1</td>\n",
              "      <td>2.093184</td>\n",
              "      <td>5</td>\n",
              "      <td>1</td>\n",
              "      <td>0.526589</td>\n",
              "      <td>...</td>\n",
              "      <td>Abnorml</td>\n",
              "      <td>WD</td>\n",
              "      <td>0.0</td>\n",
              "      <td>Pave</td>\n",
              "      <td>1.124748</td>\n",
              "      <td>2.093184</td>\n",
              "      <td>3</td>\n",
              "      <td>1.968973</td>\n",
              "      <td>1960</td>\n",
              "      <td>1996</td>\n",
              "    </tr>\n",
              "    <tr>\n",
              "      <th>2917</th>\n",
              "      <td>2.064116</td>\n",
              "      <td>0.000000</td>\n",
              "      <td>0.869742</td>\n",
              "      <td>1Fam</td>\n",
              "      <td>3</td>\n",
              "      <td>2</td>\n",
              "      <td>1.920306</td>\n",
              "      <td>6</td>\n",
              "      <td>1</td>\n",
              "      <td>0.000000</td>\n",
              "      <td>...</td>\n",
              "      <td>Normal</td>\n",
              "      <td>WD</td>\n",
              "      <td>0.0</td>\n",
              "      <td>Pave</td>\n",
              "      <td>1.080418</td>\n",
              "      <td>2.056267</td>\n",
              "      <td>3</td>\n",
              "      <td>1.685370</td>\n",
              "      <td>1992</td>\n",
              "      <td>1992</td>\n",
              "    </tr>\n",
              "    <tr>\n",
              "      <th>2918</th>\n",
              "      <td>2.067464</td>\n",
              "      <td>2.068474</td>\n",
              "      <td>0.869742</td>\n",
              "      <td>1Fam</td>\n",
              "      <td>3</td>\n",
              "      <td>2</td>\n",
              "      <td>2.032350</td>\n",
              "      <td>2</td>\n",
              "      <td>1</td>\n",
              "      <td>0.000000</td>\n",
              "      <td>...</td>\n",
              "      <td>Normal</td>\n",
              "      <td>WD</td>\n",
              "      <td>0.0</td>\n",
              "      <td>Pave</td>\n",
              "      <td>1.194706</td>\n",
              "      <td>2.067464</td>\n",
              "      <td>3</td>\n",
              "      <td>1.832945</td>\n",
              "      <td>1993</td>\n",
              "      <td>1994</td>\n",
              "    </tr>\n",
              "  </tbody>\n",
              "</table>\n",
              "<p>2919 rows × 67 columns</p>\n",
              "</div>\n",
              "      <button class=\"colab-df-convert\" onclick=\"convertToInteractive('df-41ac658d-04f4-498c-9799-4a80685fef90')\"\n",
              "              title=\"Convert this dataframe to an interactive table.\"\n",
              "              style=\"display:none;\">\n",
              "        \n",
              "  <svg xmlns=\"http://www.w3.org/2000/svg\" height=\"24px\"viewBox=\"0 0 24 24\"\n",
              "       width=\"24px\">\n",
              "    <path d=\"M0 0h24v24H0V0z\" fill=\"none\"/>\n",
              "    <path d=\"M18.56 5.44l.94 2.06.94-2.06 2.06-.94-2.06-.94-.94-2.06-.94 2.06-2.06.94zm-11 1L8.5 8.5l.94-2.06 2.06-.94-2.06-.94L8.5 2.5l-.94 2.06-2.06.94zm10 10l.94 2.06.94-2.06 2.06-.94-2.06-.94-.94-2.06-.94 2.06-2.06.94z\"/><path d=\"M17.41 7.96l-1.37-1.37c-.4-.4-.92-.59-1.43-.59-.52 0-1.04.2-1.43.59L10.3 9.45l-7.72 7.72c-.78.78-.78 2.05 0 2.83L4 21.41c.39.39.9.59 1.41.59.51 0 1.02-.2 1.41-.59l7.78-7.78 2.81-2.81c.8-.78.8-2.07 0-2.86zM5.41 20L4 18.59l7.72-7.72 1.47 1.35L5.41 20z\"/>\n",
              "  </svg>\n",
              "      </button>\n",
              "      \n",
              "  <style>\n",
              "    .colab-df-container {\n",
              "      display:flex;\n",
              "      flex-wrap:wrap;\n",
              "      gap: 12px;\n",
              "    }\n",
              "\n",
              "    .colab-df-convert {\n",
              "      background-color: #E8F0FE;\n",
              "      border: none;\n",
              "      border-radius: 50%;\n",
              "      cursor: pointer;\n",
              "      display: none;\n",
              "      fill: #1967D2;\n",
              "      height: 32px;\n",
              "      padding: 0 0 0 0;\n",
              "      width: 32px;\n",
              "    }\n",
              "\n",
              "    .colab-df-convert:hover {\n",
              "      background-color: #E2EBFA;\n",
              "      box-shadow: 0px 1px 2px rgba(60, 64, 67, 0.3), 0px 1px 3px 1px rgba(60, 64, 67, 0.15);\n",
              "      fill: #174EA6;\n",
              "    }\n",
              "\n",
              "    [theme=dark] .colab-df-convert {\n",
              "      background-color: #3B4455;\n",
              "      fill: #D2E3FC;\n",
              "    }\n",
              "\n",
              "    [theme=dark] .colab-df-convert:hover {\n",
              "      background-color: #434B5C;\n",
              "      box-shadow: 0px 1px 3px 1px rgba(0, 0, 0, 0.15);\n",
              "      filter: drop-shadow(0px 1px 2px rgba(0, 0, 0, 0.3));\n",
              "      fill: #FFFFFF;\n",
              "    }\n",
              "  </style>\n",
              "\n",
              "      <script>\n",
              "        const buttonEl =\n",
              "          document.querySelector('#df-41ac658d-04f4-498c-9799-4a80685fef90 button.colab-df-convert');\n",
              "        buttonEl.style.display =\n",
              "          google.colab.kernel.accessAllowed ? 'block' : 'none';\n",
              "\n",
              "        async function convertToInteractive(key) {\n",
              "          const element = document.querySelector('#df-41ac658d-04f4-498c-9799-4a80685fef90');\n",
              "          const dataTable =\n",
              "            await google.colab.kernel.invokeFunction('convertToInteractive',\n",
              "                                                     [key], {});\n",
              "          if (!dataTable) return;\n",
              "\n",
              "          const docLinkHtml = 'Like what you see? Visit the ' +\n",
              "            '<a target=\"_blank\" href=https://colab.research.google.com/notebooks/data_table.ipynb>data table notebook</a>'\n",
              "            + ' to learn more about interactive tables.';\n",
              "          element.innerHTML = '';\n",
              "          dataTable['output_type'] = 'display_data';\n",
              "          await google.colab.output.renderOutput(dataTable, element);\n",
              "          const docLink = document.createElement('div');\n",
              "          docLink.innerHTML = docLinkHtml;\n",
              "          element.appendChild(docLink);\n",
              "        }\n",
              "      </script>\n",
              "    </div>\n",
              "  </div>\n",
              "  "
            ],
            "text/plain": [
              "      1stFlrSF  2ndFlrSF  BedroomAbvGr BldgType  BsmtCond  BsmtExposure  \\\n",
              "0     2.048136  2.047835      0.869742     1Fam         3            -1   \n",
              "1     2.096943  0.000000      0.869742     1Fam         3             3   \n",
              "2     2.057383  2.049631      0.869742     1Fam         3             1   \n",
              "3     2.062933  2.032004      0.869742     1Fam         4            -1   \n",
              "4     2.084931  2.074473      0.959135     1Fam         3             2   \n",
              "...        ...       ...           ...      ...       ...           ...   \n",
              "2914  1.988484  1.988484      0.869742    Twnhs         3            -1   \n",
              "2915  1.988484  1.988484      0.869742   TwnhsE         3            -1   \n",
              "2916  2.093184  0.000000      0.959135     1Fam         3            -1   \n",
              "2917  2.064116  0.000000      0.869742     1Fam         3             2   \n",
              "2918  2.067464  2.068474      0.869742     1Fam         3             2   \n",
              "\n",
              "      BsmtFinSF1  BsmtFinType1  BsmtFinType2  BsmtFullBath  ...  \\\n",
              "0       2.023008             6             1      0.526589  ...   \n",
              "1       2.065156             5             1      0.000000  ...   \n",
              "2       1.972450             6             1      0.526589  ...   \n",
              "3       1.853152             5             1      0.526589  ...   \n",
              "4       2.013056             6             1      0.526589  ...   \n",
              "...          ...           ...           ...           ...  ...   \n",
              "2914    0.000000             1             1      0.000000  ...   \n",
              "2915    1.876926             3             1      0.000000  ...   \n",
              "2916    2.093184             5             1      0.526589  ...   \n",
              "2917    1.920306             6             1      0.000000  ...   \n",
              "2918    2.032350             2             1      0.000000  ...   \n",
              "\n",
              "      SaleCondition  SaleType ScreenPorch Street TotRmsAbvGrd TotalBsmtSF  \\\n",
              "0            Normal        WD         0.0   Pave     1.162283    2.048136   \n",
              "1            Normal        WD         0.0   Pave     1.080418    2.096943   \n",
              "2            Normal        WD         0.0   Pave     1.080418    2.057383   \n",
              "3           Abnorml        WD         0.0   Pave     1.124748    2.032004   \n",
              "4            Normal        WD         0.0   Pave     1.194706    2.084931   \n",
              "...             ...       ...         ...    ...          ...         ...   \n",
              "2914         Normal        WD         0.0   Pave     1.026672    1.988484   \n",
              "2915        Abnorml        WD         0.0   Pave     1.080418    1.988484   \n",
              "2916        Abnorml        WD         0.0   Pave     1.124748    2.093184   \n",
              "2917         Normal        WD         0.0   Pave     1.080418    2.056267   \n",
              "2918         Normal        WD         0.0   Pave     1.194706    2.067464   \n",
              "\n",
              "      Utilities  WoodDeckSF  YearBuilt YearRemodAdd  \n",
              "0             3    0.000000       2003         2003  \n",
              "1             3    1.902174       1976         1976  \n",
              "2             3    0.000000       2001         2002  \n",
              "3             3    0.000000       1915         1970  \n",
              "4             3    1.834610       2000         2000  \n",
              "...         ...         ...        ...          ...  \n",
              "2914          3    0.000000       1970         1970  \n",
              "2915          3    0.000000       1970         1970  \n",
              "2916          3    1.968973       1960         1996  \n",
              "2917          3    1.685370       1992         1992  \n",
              "2918          3    1.832945       1993         1994  \n",
              "\n",
              "[2919 rows x 67 columns]"
            ]
          },
          "execution_count": 48,
          "metadata": {},
          "output_type": "execute_result"
        }
      ],
      "source": [
        "df"
      ]
    },
    {
      "cell_type": "code",
      "execution_count": null,
      "metadata": {
        "colab": {
          "base_uri": "https://localhost:8080/"
        },
        "id": "id7QV8vUz8L1",
        "outputId": "44e20403-88d2-4f88-d0bd-fc1557a23683"
      },
      "outputs": [
        {
          "name": "stdout",
          "output_type": "stream",
          "text": [
            "23\n"
          ]
        },
        {
          "data": {
            "text/plain": [
              "['BldgType',\n",
              " 'CentralAir',\n",
              " 'Condition1',\n",
              " 'Condition2',\n",
              " 'Electrical',\n",
              " 'Exterior1st',\n",
              " 'Exterior2nd',\n",
              " 'Foundation',\n",
              " 'GarageType',\n",
              " 'Heating',\n",
              " 'HouseStyle',\n",
              " 'LandContour',\n",
              " 'LandSlope',\n",
              " 'LotConfig',\n",
              " 'LotShape',\n",
              " 'MSZoning',\n",
              " 'MasVnrType',\n",
              " 'Neighborhood',\n",
              " 'RoofMatl',\n",
              " 'RoofStyle',\n",
              " 'SaleCondition',\n",
              " 'SaleType',\n",
              " 'Street']"
            ]
          },
          "execution_count": 49,
          "metadata": {},
          "output_type": "execute_result"
        }
      ],
      "source": [
        "obj_feat = list(df.loc[:, df.dtypes == 'object'].columns.values)\n",
        "print(len(obj_feat))\n",
        "\n",
        "obj_feat"
      ]
    },
    {
      "cell_type": "code",
      "execution_count": null,
      "metadata": {
        "id": "WCrggtdOz8L1"
      },
      "outputs": [],
      "source": [
        "# dummy varaibale\n",
        "dummy_drop = []\n",
        "for i in obj_feat:\n",
        "    dummy_drop += [i + '_' + str(df[i].unique()[-1])]\n",
        "\n",
        "df = pd.get_dummies(df, columns = obj_feat)\n",
        "df = df.drop(dummy_drop, axis = 1)"
      ]
    },
    {
      "cell_type": "code",
      "execution_count": null,
      "metadata": {
        "colab": {
          "base_uri": "https://localhost:8080/"
        },
        "id": "Ph1UYCY-z8L1",
        "outputId": "1137d9cb-3590-479c-e18b-af54e03d1fd9"
      },
      "outputs": [
        {
          "data": {
            "text/plain": [
              "(2919, 188)"
            ]
          },
          "execution_count": 51,
          "metadata": {},
          "output_type": "execute_result"
        }
      ],
      "source": [
        "df.shape"
      ]
    },
    {
      "cell_type": "code",
      "execution_count": null,
      "metadata": {
        "id": "XI63KSeoz8L1"
      },
      "outputs": [],
      "source": [
        "# scaling dataset with robust scaler\n",
        "from sklearn.preprocessing import RobustScaler\n",
        "scaler = RobustScaler()\n",
        "scaler.fit(df)\n",
        "df = scaler.transform(df)"
      ]
    },
    {
      "cell_type": "markdown",
      "metadata": {
        "id": "1HyeSdb7z8L1"
      },
      "source": [
        "# Model Bulding"
      ]
    },
    {
      "cell_type": "code",
      "execution_count": null,
      "metadata": {
        "colab": {
          "base_uri": "https://localhost:8080/"
        },
        "id": "g7rgMQizz8L2",
        "outputId": "44ef53bc-5848-4ee4-828c-a71878643c48"
      },
      "outputs": [
        {
          "name": "stdout",
          "output_type": "stream",
          "text": [
            "Shape of X_train:  1460\n",
            "Shape of X_test:  1459\n",
            "Shape of y_train:  1460\n"
          ]
        }
      ],
      "source": [
        "train_len = len(train)\n",
        "X_train = df[:train_len]\n",
        "X_test = df[train_len:]\n",
        "y_train = SalePrice\n",
        "\n",
        "print(\"Shape of X_train: \", len(X_train))\n",
        "print(\"Shape of X_test: \", len(X_test))\n",
        "print(\"Shape of y_train: \", len(y_train))\n"
      ]
    },
    {
      "cell_type": "markdown",
      "metadata": {
        "id": "RnrytHC-z8L2"
      },
      "source": [
        "# Cross Validation"
      ]
    },
    {
      "cell_type": "code",
      "execution_count": null,
      "metadata": {
        "id": "xDMisLLHz8L2"
      },
      "outputs": [],
      "source": [
        "from sklearn.model_selection import KFold, cross_val_score\n",
        "from sklearn.metrics import make_scorer, r2_score\n",
        "\n",
        "def test_model(model, X_train=X_train, y_train=y_train):\n",
        "    cv = KFold(n_splits = 3, shuffle=True, random_state = 45)\n",
        "    r2 = make_scorer(r2_score)\n",
        "    r2_val_score = cross_val_score(model, X_train, y_train, cv=cv, scoring = r2)\n",
        "    score = [r2_val_score.mean()]\n",
        "    return score"
      ]
    },
    {
      "cell_type": "code",
      "execution_count": null,
      "metadata": {
        "id": "LyteacQtz8L2"
      },
      "outputs": [],
      "source": [
        "# first cross validation with df with log second without log"
      ]
    },
    {
      "cell_type": "markdown",
      "metadata": {
        "id": "V6VEyAFHz8L2"
      },
      "source": [
        "# Linear Model"
      ]
    },
    {
      "cell_type": "code",
      "execution_count": null,
      "metadata": {
        "colab": {
          "base_uri": "https://localhost:8080/"
        },
        "id": "ijAFdTODz8L2",
        "outputId": "53607eb5-aec9-44fb-d7c7-83ff739d310d"
      },
      "outputs": [
        {
          "data": {
            "text/plain": [
              "[0.8546587322095857]"
            ]
          },
          "execution_count": 56,
          "metadata": {},
          "output_type": "execute_result"
        }
      ],
      "source": [
        "import sklearn.linear_model as linear_model\n",
        "LR = linear_model.LinearRegression()\n",
        "test_model(LR)"
      ]
    },
    {
      "cell_type": "code",
      "execution_count": null,
      "metadata": {
        "colab": {
          "base_uri": "https://localhost:8080/"
        },
        "id": "bj7pvtG3z8L2",
        "outputId": "eb80084d-3130-44bb-e6b0-9dcfebad5a68"
      },
      "outputs": [
        {
          "data": {
            "text/plain": [
              "[0.8880649261169052]"
            ]
          },
          "execution_count": 57,
          "metadata": {},
          "output_type": "execute_result"
        }
      ],
      "source": [
        "rdg = linear_model.Ridge()\n",
        "test_model(rdg)"
      ]
    },
    {
      "cell_type": "code",
      "execution_count": null,
      "metadata": {
        "colab": {
          "base_uri": "https://localhost:8080/"
        },
        "id": "p_HEFmgMz8L2",
        "outputId": "538a7a35-b107-4493-8527-4c418d814ab0"
      },
      "outputs": [
        {
          "name": "stderr",
          "output_type": "stream",
          "text": [
            "/usr/local/lib/python3.10/dist-packages/sklearn/linear_model/_coordinate_descent.py:631: ConvergenceWarning: Objective did not converge. You might want to increase the number of iterations, check the scale of the features or consider increasing regularisation. Duality gap: 8.388e-01, tolerance: 1.503e-02\n",
            "  model = cd_fast.enet_coordinate_descent(\n",
            "/usr/local/lib/python3.10/dist-packages/sklearn/linear_model/_coordinate_descent.py:631: ConvergenceWarning: Objective did not converge. You might want to increase the number of iterations, check the scale of the features or consider increasing regularisation. Duality gap: 1.646e-01, tolerance: 1.575e-02\n",
            "  model = cd_fast.enet_coordinate_descent(\n",
            "/usr/local/lib/python3.10/dist-packages/sklearn/linear_model/_coordinate_descent.py:631: ConvergenceWarning: Objective did not converge. You might want to increase the number of iterations, check the scale of the features or consider increasing regularisation. Duality gap: 8.516e-01, tolerance: 1.578e-02\n",
            "  model = cd_fast.enet_coordinate_descent(\n"
          ]
        },
        {
          "data": {
            "text/plain": [
              "[0.8838984300386702]"
            ]
          },
          "execution_count": 58,
          "metadata": {},
          "output_type": "execute_result"
        }
      ],
      "source": [
        "lasso = linear_model.Lasso(alpha=1e-4)\n",
        "test_model(lasso)"
      ]
    },
    {
      "cell_type": "markdown",
      "metadata": {
        "id": "Y63mobr-z8L2"
      },
      "source": [
        "# Support vector machine"
      ]
    },
    {
      "cell_type": "code",
      "execution_count": null,
      "metadata": {
        "colab": {
          "base_uri": "https://localhost:8080/"
        },
        "id": "qZGgGKWNz8L3",
        "outputId": "58a1342e-857e-4e5e-ab93-e1b1b432ecce"
      },
      "outputs": [
        {
          "data": {
            "text/plain": [
              "[0.8830460865860393]"
            ]
          },
          "execution_count": 59,
          "metadata": {},
          "output_type": "execute_result"
        }
      ],
      "source": [
        "from sklearn.svm import SVR\n",
        "svr = SVR(kernel='rbf')\n",
        "test_model(svr)"
      ]
    },
    {
      "cell_type": "markdown",
      "metadata": {
        "id": "sikvfvvtz8L3"
      },
      "source": [
        "# svm hyper parameter tuning"
      ]
    },
    {
      "cell_type": "code",
      "execution_count": null,
      "metadata": {
        "colab": {
          "base_uri": "https://localhost:8080/"
        },
        "id": "g044v8gaz8L3",
        "outputId": "381c003e-4bf3-4122-813c-01388133bd8a",
        "scrolled": true
      },
      "outputs": [
        {
          "data": {
            "text/plain": [
              "0.8948775277050072"
            ]
          },
          "execution_count": 60,
          "metadata": {},
          "output_type": "execute_result"
        }
      ],
      "source": [
        "from sklearn.model_selection import RandomizedSearchCV, GridSearchCV\n",
        "\n",
        "params = {\n",
        "    'kernel': ['rbf'],\n",
        "    'gamma': [1, 0.1, 0.01, 0.001, 0.0001],\n",
        "    'C': [0.1, 1, 10, 100, 1000],\n",
        "    'epsilon': [1, 0.2, 0.1, 0.01, 0.001, 0.0001]\n",
        "}\n",
        "\n",
        "rand_search = RandomizedSearchCV(svr, param_distributions=params, n_jobs=-1, cv=11)\n",
        "rand_search.fit(X_train, y_train)\n",
        "\n",
        "rand_search.best_score_\n"
      ]
    },
    {
      "cell_type": "code",
      "execution_count": null,
      "metadata": {
        "colab": {
          "base_uri": "https://localhost:8080/",
          "height": 75
        },
        "id": "sdsuAG4Nz8L3",
        "outputId": "0236f532-e770-4ae7-80d0-3b1c15bce73a"
      },
      "outputs": [
        {
          "data": {
            "text/html": [
              "<style>#sk-container-id-2 {color: black;background-color: white;}#sk-container-id-2 pre{padding: 0;}#sk-container-id-2 div.sk-toggleable {background-color: white;}#sk-container-id-2 label.sk-toggleable__label {cursor: pointer;display: block;width: 100%;margin-bottom: 0;padding: 0.3em;box-sizing: border-box;text-align: center;}#sk-container-id-2 label.sk-toggleable__label-arrow:before {content: \"▸\";float: left;margin-right: 0.25em;color: #696969;}#sk-container-id-2 label.sk-toggleable__label-arrow:hover:before {color: black;}#sk-container-id-2 div.sk-estimator:hover label.sk-toggleable__label-arrow:before {color: black;}#sk-container-id-2 div.sk-toggleable__content {max-height: 0;max-width: 0;overflow: hidden;text-align: left;background-color: #f0f8ff;}#sk-container-id-2 div.sk-toggleable__content pre {margin: 0.2em;color: black;border-radius: 0.25em;background-color: #f0f8ff;}#sk-container-id-2 input.sk-toggleable__control:checked~div.sk-toggleable__content {max-height: 200px;max-width: 100%;overflow: auto;}#sk-container-id-2 input.sk-toggleable__control:checked~label.sk-toggleable__label-arrow:before {content: \"▾\";}#sk-container-id-2 div.sk-estimator input.sk-toggleable__control:checked~label.sk-toggleable__label {background-color: #d4ebff;}#sk-container-id-2 div.sk-label input.sk-toggleable__control:checked~label.sk-toggleable__label {background-color: #d4ebff;}#sk-container-id-2 input.sk-hidden--visually {border: 0;clip: rect(1px 1px 1px 1px);clip: rect(1px, 1px, 1px, 1px);height: 1px;margin: -1px;overflow: hidden;padding: 0;position: absolute;width: 1px;}#sk-container-id-2 div.sk-estimator {font-family: monospace;background-color: #f0f8ff;border: 1px dotted black;border-radius: 0.25em;box-sizing: border-box;margin-bottom: 0.5em;}#sk-container-id-2 div.sk-estimator:hover {background-color: #d4ebff;}#sk-container-id-2 div.sk-parallel-item::after {content: \"\";width: 100%;border-bottom: 1px solid gray;flex-grow: 1;}#sk-container-id-2 div.sk-label:hover label.sk-toggleable__label {background-color: #d4ebff;}#sk-container-id-2 div.sk-serial::before {content: \"\";position: absolute;border-left: 1px solid gray;box-sizing: border-box;top: 0;bottom: 0;left: 50%;z-index: 0;}#sk-container-id-2 div.sk-serial {display: flex;flex-direction: column;align-items: center;background-color: white;padding-right: 0.2em;padding-left: 0.2em;position: relative;}#sk-container-id-2 div.sk-item {position: relative;z-index: 1;}#sk-container-id-2 div.sk-parallel {display: flex;align-items: stretch;justify-content: center;background-color: white;position: relative;}#sk-container-id-2 div.sk-item::before, #sk-container-id-2 div.sk-parallel-item::before {content: \"\";position: absolute;border-left: 1px solid gray;box-sizing: border-box;top: 0;bottom: 0;left: 50%;z-index: -1;}#sk-container-id-2 div.sk-parallel-item {display: flex;flex-direction: column;z-index: 1;position: relative;background-color: white;}#sk-container-id-2 div.sk-parallel-item:first-child::after {align-self: flex-end;width: 50%;}#sk-container-id-2 div.sk-parallel-item:last-child::after {align-self: flex-start;width: 50%;}#sk-container-id-2 div.sk-parallel-item:only-child::after {width: 0;}#sk-container-id-2 div.sk-dashed-wrapped {border: 1px dashed gray;margin: 0 0.4em 0.5em 0.4em;box-sizing: border-box;padding-bottom: 0.4em;background-color: white;}#sk-container-id-2 div.sk-label label {font-family: monospace;font-weight: bold;display: inline-block;line-height: 1.2em;}#sk-container-id-2 div.sk-label-container {text-align: center;}#sk-container-id-2 div.sk-container {/* jupyter's `normalize.less` sets `[hidden] { display: none; }` but bootstrap.min.css set `[hidden] { display: none !important; }` so we also need the `!important` here to be able to override the default hidden behavior on the sphinx rendered scikit-learn.org. See: https://github.com/scikit-learn/scikit-learn/issues/21755 */display: inline-block !important;position: relative;}#sk-container-id-2 div.sk-text-repr-fallback {display: none;}</style><div id=\"sk-container-id-2\" class=\"sk-top-container\"><div class=\"sk-text-repr-fallback\"><pre>SVR(C=10, epsilon=0.01, gamma=0.0001)</pre><b>In a Jupyter environment, please rerun this cell to show the HTML representation or trust the notebook. <br />On GitHub, the HTML representation is unable to render, please try loading this page with nbviewer.org.</b></div><div class=\"sk-container\" hidden><div class=\"sk-item\"><div class=\"sk-estimator sk-toggleable\"><input class=\"sk-toggleable__control sk-hidden--visually\" id=\"sk-estimator-id-2\" type=\"checkbox\" checked><label for=\"sk-estimator-id-2\" class=\"sk-toggleable__label sk-toggleable__label-arrow\">SVR</label><div class=\"sk-toggleable__content\"><pre>SVR(C=10, epsilon=0.01, gamma=0.0001)</pre></div></div></div></div></div>"
            ],
            "text/plain": [
              "SVR(C=10, epsilon=0.01, gamma=0.0001)"
            ]
          },
          "execution_count": 61,
          "metadata": {},
          "output_type": "execute_result"
        }
      ],
      "source": [
        "rand_search.best_estimator_"
      ]
    },
    {
      "cell_type": "code",
      "execution_count": null,
      "metadata": {
        "colab": {
          "base_uri": "https://localhost:8080/"
        },
        "id": "O4g1N4Osz8L3",
        "outputId": "ad1f0262-80f1-44b5-e1fd-94a7aadd55f7"
      },
      "outputs": [
        {
          "data": {
            "text/plain": [
              "[0.8879819130252283]"
            ]
          },
          "execution_count": 62,
          "metadata": {},
          "output_type": "execute_result"
        }
      ],
      "source": [
        "svr_reg1=SVR(C=10, cache_size=200, coef0=0.0, degree=3, epsilon=0.1, gamma=0.001,\n",
        "    kernel='rbf', max_iter=-1, shrinking=True, tol=0.001, verbose=False)\n",
        "test_model(svr_reg1)"
      ]
    },
    {
      "cell_type": "code",
      "execution_count": null,
      "metadata": {
        "colab": {
          "base_uri": "https://localhost:8080/"
        },
        "id": "xGIuCmhBz8L3",
        "outputId": "2be6e4e3-1245-4e76-bbe3-9bfb78947bfb"
      },
      "outputs": [
        {
          "data": {
            "text/plain": [
              "[0.9002022271963671]"
            ]
          },
          "execution_count": 63,
          "metadata": {},
          "output_type": "execute_result"
        }
      ],
      "source": [
        "svr_reg= SVR(C=100, cache_size=200, coef0=0.0, degree=3, epsilon=0.01, gamma=0.0001,\n",
        "    kernel='rbf', max_iter=-1, shrinking=True, tol=0.001, verbose=False)\n",
        "test_model(svr_reg)"
      ]
    },
    {
      "cell_type": "markdown",
      "metadata": {
        "id": "Ob_FUFWvz8L3"
      },
      "source": [
        "# XGBoost"
      ]
    },
    {
      "cell_type": "code",
      "execution_count": null,
      "metadata": {
        "colab": {
          "base_uri": "https://localhost:8080/"
        },
        "id": "FP4i5lgfz8L3",
        "outputId": "8dc4de04-8426-48da-a189-d8018ba5e190"
      },
      "outputs": [
        {
          "name": "stdout",
          "output_type": "stream",
          "text": [
            "[14:38:31] WARNING: ../src/learner.cc:767: \n",
            "Parameters: { \"bbooster\" } are not used.\n",
            "\n",
            "[14:38:31] WARNING: ../src/learner.cc:767: \n",
            "Parameters: { \"bbooster\" } are not used.\n",
            "\n",
            "[14:38:32] WARNING: ../src/learner.cc:767: \n",
            "Parameters: { \"bbooster\" } are not used.\n",
            "\n"
          ]
        },
        {
          "data": {
            "text/plain": [
              "[0.8720914520512176]"
            ]
          },
          "execution_count": 64,
          "metadata": {},
          "output_type": "execute_result"
        }
      ],
      "source": [
        "import xgboost\n",
        "#xgb_reg=xgboost.XGBRegressor()\n",
        "xgb_reg = xgboost.XGBRegressor(bbooster='gbtree', random_state=51)\n",
        "test_model(xgb_reg)"
      ]
    },
    {
      "cell_type": "code",
      "execution_count": null,
      "metadata": {
        "colab": {
          "base_uri": "https://localhost:8080/"
        },
        "id": "2Xcdu9-6z8L3",
        "outputId": "f97c737f-f24b-41c4-946a-6716f7e4fe37"
      },
      "outputs": [
        {
          "name": "stdout",
          "output_type": "stream",
          "text": [
            "[14:38:34] WARNING: ../src/learner.cc:767: \n",
            "Parameters: { \"mon_child_weight\" } are not used.\n",
            "\n",
            "[14:38:38] WARNING: ../src/learner.cc:767: \n",
            "Parameters: { \"mon_child_weight\" } are not used.\n",
            "\n",
            "[14:38:41] WARNING: ../src/learner.cc:767: \n",
            "Parameters: { \"mon_child_weight\" } are not used.\n",
            "\n"
          ]
        },
        {
          "data": {
            "text/plain": [
              "[0.8955434181979491]"
            ]
          },
          "execution_count": 65,
          "metadata": {},
          "output_type": "execute_result"
        }
      ],
      "source": [
        "xgb2_reg=xgboost.XGBRegressor(n_estimators= 899,\n",
        " mon_child_weight= 2,\n",
        " max_depth= 4,\n",
        " learning_rate= 0.05,\n",
        " booster= 'gbtree')\n",
        "\n",
        "test_model(xgb2_reg)"
      ]
    },
    {
      "cell_type": "markdown",
      "metadata": {
        "id": "eEnO2D5Nz8L4"
      },
      "source": [
        "# Solution"
      ]
    },
    {
      "cell_type": "code",
      "execution_count": null,
      "metadata": {
        "colab": {
          "base_uri": "https://localhost:8080/",
          "height": 107
        },
        "id": "E9LsD1Elz8L4",
        "outputId": "17da20cc-6811-4fba-9d14-1458b78faddb"
      },
      "outputs": [
        {
          "name": "stdout",
          "output_type": "stream",
          "text": [
            "[14:38:44] WARNING: ../src/learner.cc:767: \n",
            "Parameters: { \"mon_child_weight\" } are not used.\n",
            "\n"
          ]
        },
        {
          "data": {
            "application/vnd.google.colaboratory.intrinsic+json": {
              "type": "string"
            },
            "text/plain": [
              "'\\nRank: 1444\\nRed AI Productionnovice \\ntier\\n0.12278\\n5\\nnow\\nYour Best Entry \\nYour submission scored 0.13481, which is not an improvement of your best score. Keep trying!'"
            ]
          },
          "execution_count": 66,
          "metadata": {},
          "output_type": "execute_result"
        }
      ],
      "source": [
        "xgb2_reg.fit(X_train,y_train)\n",
        "y_pred = np.exp(xgb2_reg.predict(X_test)).round(2)\n",
        "submit_test = pd.concat([test['Id'],pd.DataFrame(y_pred)], axis=1)\n",
        "submit_test.columns=['Id', 'SalePrice']\n",
        "submit_test.to_csv('sample_submission.csv', index=False)\n",
        "submit_test\n",
        "\n",
        "\"\"\"\n",
        "Rank: 1444\n",
        "Red AI Productionnovice\n",
        "tier\n",
        "0.12278\n",
        "5\n",
        "now\n",
        "Your Best Entry\n",
        "Your submission scored 0.13481, which is not an improvement of your best score. Keep trying!\"\"\""
      ]
    },
    {
      "cell_type": "code",
      "execution_count": null,
      "metadata": {
        "colab": {
          "base_uri": "https://localhost:8080/",
          "height": 424
        },
        "id": "ZzCw7LEGz8L4",
        "outputId": "44c20fd7-d201-4c1a-a79b-79b8caa86a32"
      },
      "outputs": [
        {
          "data": {
            "text/html": [
              "\n",
              "  <div id=\"df-2945f4db-b134-4d7f-a471-04f21a9e001c\">\n",
              "    <div class=\"colab-df-container\">\n",
              "      <div>\n",
              "<style scoped>\n",
              "    .dataframe tbody tr th:only-of-type {\n",
              "        vertical-align: middle;\n",
              "    }\n",
              "\n",
              "    .dataframe tbody tr th {\n",
              "        vertical-align: top;\n",
              "    }\n",
              "\n",
              "    .dataframe thead th {\n",
              "        text-align: right;\n",
              "    }\n",
              "</style>\n",
              "<table border=\"1\" class=\"dataframe\">\n",
              "  <thead>\n",
              "    <tr style=\"text-align: right;\">\n",
              "      <th></th>\n",
              "      <th>Id</th>\n",
              "      <th>SalePrice</th>\n",
              "    </tr>\n",
              "  </thead>\n",
              "  <tbody>\n",
              "    <tr>\n",
              "      <th>0</th>\n",
              "      <td>1461</td>\n",
              "      <td>115927.65</td>\n",
              "    </tr>\n",
              "    <tr>\n",
              "      <th>1</th>\n",
              "      <td>1462</td>\n",
              "      <td>165914.95</td>\n",
              "    </tr>\n",
              "    <tr>\n",
              "      <th>2</th>\n",
              "      <td>1463</td>\n",
              "      <td>185660.96</td>\n",
              "    </tr>\n",
              "    <tr>\n",
              "      <th>3</th>\n",
              "      <td>1464</td>\n",
              "      <td>196358.54</td>\n",
              "    </tr>\n",
              "    <tr>\n",
              "      <th>4</th>\n",
              "      <td>1465</td>\n",
              "      <td>195182.56</td>\n",
              "    </tr>\n",
              "    <tr>\n",
              "      <th>...</th>\n",
              "      <td>...</td>\n",
              "      <td>...</td>\n",
              "    </tr>\n",
              "    <tr>\n",
              "      <th>1454</th>\n",
              "      <td>2915</td>\n",
              "      <td>89838.72</td>\n",
              "    </tr>\n",
              "    <tr>\n",
              "      <th>1455</th>\n",
              "      <td>2916</td>\n",
              "      <td>80009.78</td>\n",
              "    </tr>\n",
              "    <tr>\n",
              "      <th>1456</th>\n",
              "      <td>2917</td>\n",
              "      <td>167789.82</td>\n",
              "    </tr>\n",
              "    <tr>\n",
              "      <th>1457</th>\n",
              "      <td>2918</td>\n",
              "      <td>123389.49</td>\n",
              "    </tr>\n",
              "    <tr>\n",
              "      <th>1458</th>\n",
              "      <td>2919</td>\n",
              "      <td>218511.32</td>\n",
              "    </tr>\n",
              "  </tbody>\n",
              "</table>\n",
              "<p>1459 rows × 2 columns</p>\n",
              "</div>\n",
              "      <button class=\"colab-df-convert\" onclick=\"convertToInteractive('df-2945f4db-b134-4d7f-a471-04f21a9e001c')\"\n",
              "              title=\"Convert this dataframe to an interactive table.\"\n",
              "              style=\"display:none;\">\n",
              "        \n",
              "  <svg xmlns=\"http://www.w3.org/2000/svg\" height=\"24px\"viewBox=\"0 0 24 24\"\n",
              "       width=\"24px\">\n",
              "    <path d=\"M0 0h24v24H0V0z\" fill=\"none\"/>\n",
              "    <path d=\"M18.56 5.44l.94 2.06.94-2.06 2.06-.94-2.06-.94-.94-2.06-.94 2.06-2.06.94zm-11 1L8.5 8.5l.94-2.06 2.06-.94-2.06-.94L8.5 2.5l-.94 2.06-2.06.94zm10 10l.94 2.06.94-2.06 2.06-.94-2.06-.94-.94-2.06-.94 2.06-2.06.94z\"/><path d=\"M17.41 7.96l-1.37-1.37c-.4-.4-.92-.59-1.43-.59-.52 0-1.04.2-1.43.59L10.3 9.45l-7.72 7.72c-.78.78-.78 2.05 0 2.83L4 21.41c.39.39.9.59 1.41.59.51 0 1.02-.2 1.41-.59l7.78-7.78 2.81-2.81c.8-.78.8-2.07 0-2.86zM5.41 20L4 18.59l7.72-7.72 1.47 1.35L5.41 20z\"/>\n",
              "  </svg>\n",
              "      </button>\n",
              "      \n",
              "  <style>\n",
              "    .colab-df-container {\n",
              "      display:flex;\n",
              "      flex-wrap:wrap;\n",
              "      gap: 12px;\n",
              "    }\n",
              "\n",
              "    .colab-df-convert {\n",
              "      background-color: #E8F0FE;\n",
              "      border: none;\n",
              "      border-radius: 50%;\n",
              "      cursor: pointer;\n",
              "      display: none;\n",
              "      fill: #1967D2;\n",
              "      height: 32px;\n",
              "      padding: 0 0 0 0;\n",
              "      width: 32px;\n",
              "    }\n",
              "\n",
              "    .colab-df-convert:hover {\n",
              "      background-color: #E2EBFA;\n",
              "      box-shadow: 0px 1px 2px rgba(60, 64, 67, 0.3), 0px 1px 3px 1px rgba(60, 64, 67, 0.15);\n",
              "      fill: #174EA6;\n",
              "    }\n",
              "\n",
              "    [theme=dark] .colab-df-convert {\n",
              "      background-color: #3B4455;\n",
              "      fill: #D2E3FC;\n",
              "    }\n",
              "\n",
              "    [theme=dark] .colab-df-convert:hover {\n",
              "      background-color: #434B5C;\n",
              "      box-shadow: 0px 1px 3px 1px rgba(0, 0, 0, 0.15);\n",
              "      filter: drop-shadow(0px 1px 2px rgba(0, 0, 0, 0.3));\n",
              "      fill: #FFFFFF;\n",
              "    }\n",
              "  </style>\n",
              "\n",
              "      <script>\n",
              "        const buttonEl =\n",
              "          document.querySelector('#df-2945f4db-b134-4d7f-a471-04f21a9e001c button.colab-df-convert');\n",
              "        buttonEl.style.display =\n",
              "          google.colab.kernel.accessAllowed ? 'block' : 'none';\n",
              "\n",
              "        async function convertToInteractive(key) {\n",
              "          const element = document.querySelector('#df-2945f4db-b134-4d7f-a471-04f21a9e001c');\n",
              "          const dataTable =\n",
              "            await google.colab.kernel.invokeFunction('convertToInteractive',\n",
              "                                                     [key], {});\n",
              "          if (!dataTable) return;\n",
              "\n",
              "          const docLinkHtml = 'Like what you see? Visit the ' +\n",
              "            '<a target=\"_blank\" href=https://colab.research.google.com/notebooks/data_table.ipynb>data table notebook</a>'\n",
              "            + ' to learn more about interactive tables.';\n",
              "          element.innerHTML = '';\n",
              "          dataTable['output_type'] = 'display_data';\n",
              "          await google.colab.output.renderOutput(dataTable, element);\n",
              "          const docLink = document.createElement('div');\n",
              "          docLink.innerHTML = docLinkHtml;\n",
              "          element.appendChild(docLink);\n",
              "        }\n",
              "      </script>\n",
              "    </div>\n",
              "  </div>\n",
              "  "
            ],
            "text/plain": [
              "        Id  SalePrice\n",
              "0     1461  115927.65\n",
              "1     1462  165914.95\n",
              "2     1463  185660.96\n",
              "3     1464  196358.54\n",
              "4     1465  195182.56\n",
              "...    ...        ...\n",
              "1454  2915   89838.72\n",
              "1455  2916   80009.78\n",
              "1456  2917  167789.82\n",
              "1457  2918  123389.49\n",
              "1458  2919  218511.32\n",
              "\n",
              "[1459 rows x 2 columns]"
            ]
          },
          "execution_count": 67,
          "metadata": {},
          "output_type": "execute_result"
        }
      ],
      "source": [
        "svr_reg.fit(X_train,y_train)\n",
        "y_pred = np.exp(svr_reg.predict(X_test)).round(2)\n",
        "submit_test = pd.concat([test['Id'],pd.DataFrame(y_pred)], axis=1)\n",
        "submit_test.columns=['Id', 'SalePrice']\n",
        "submit_test.to_csv('sample_submission.csv', index=False)\n",
        "submit_test\n"
      ]
    },
    {
      "cell_type": "markdown",
      "metadata": {
        "id": "syivdqVVz8MD"
      },
      "source": [
        "# Model Save"
      ]
    },
    {
      "cell_type": "code",
      "execution_count": null,
      "metadata": {
        "colab": {
          "base_uri": "https://localhost:8080/"
        },
        "id": "Niy_mgiGz8MD",
        "outputId": "f0077d1d-ffe5-4e6f-83c7-eb1b32c8111a"
      },
      "outputs": [
        {
          "data": {
            "text/plain": [
              "array([11.66072156, 12.01923057, 12.1316775 , ..., 12.03046738,\n",
              "       11.72310123, 12.29459311])"
            ]
          },
          "execution_count": 68,
          "metadata": {},
          "output_type": "execute_result"
        }
      ],
      "source": [
        "import pickle\n",
        "\n",
        "pickle.dump(svr_reg, open('model_house_price_prediction.csv', 'wb'))\n",
        "model_house_price_prediction = pickle.load(open('model_house_price_prediction.csv', 'rb'))\n",
        "model_house_price_prediction.predict(X_test)"
      ]
    },
    {
      "cell_type": "code",
      "execution_count": null,
      "metadata": {
        "colab": {
          "base_uri": "https://localhost:8080/"
        },
        "id": "7odqZ_V5z8MD",
        "outputId": "c8c1a68a-2918-44b1-cfc6-51a689dd17d8",
        "scrolled": true
      },
      "outputs": [
        {
          "data": {
            "text/plain": [
              "[0.9002022271963671]"
            ]
          },
          "execution_count": 69,
          "metadata": {},
          "output_type": "execute_result"
        }
      ],
      "source": [
        "test_model(model_house_price_prediction)"
      ]
    },
    {
      "cell_type": "markdown",
      "metadata": {
        "id": "FXl9Sxf0z8ME"
      },
      "source": [
        "# SVM Accuracy = 90%"
      ]
    },
    {
      "cell_type": "markdown",
      "metadata": {
        "id": "gVmYNU4vz8ME"
      },
      "source": [
        "# Machine Learning Model Building Never End Until And Unless App Not Stop"
      ]
    }
  ],
  "metadata": {
    "colab": {
      "provenance": []
    },
    "kernelspec": {
      "display_name": "Python 3",
      "language": "python",
      "name": "python3"
    },
    "language_info": {
      "codemirror_mode": {
        "name": "ipython",
        "version": 3
      },
      "file_extension": ".py",
      "mimetype": "text/x-python",
      "name": "python",
      "nbconvert_exporter": "python",
      "pygments_lexer": "ipython3",
      "version": "3.10.8"
    }
  },
  "nbformat": 4,
  "nbformat_minor": 0
}
