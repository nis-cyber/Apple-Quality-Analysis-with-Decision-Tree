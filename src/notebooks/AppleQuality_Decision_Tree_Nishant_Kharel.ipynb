{
  "cells": [
    {
      "cell_type": "code",
      "execution_count": null,
      "metadata": {
        "id": "NODb8m6XqIfF"
      },
      "outputs": [],
      "source": [
        "# # Import necessary libraries\n",
        "# import pandas as pd\n",
        "# from sklearn.model_selection import train_test_split\n",
        "# from sklearn.tree import DecisionTreeClassifier\n",
        "# from sklearn.tree import DecisionTreeClassifier, plot_tree  # or DecisionTreeRegressor\n",
        "# from sklearn.metrics import confusion_matrix, classification_report  # or relevant metrics for regression\n",
        "# from sklearn.preprocessing import LabelEncoder\n",
        "import pandas as pd\n",
        "from sklearn.model_selection import train_test_split\n",
        "from sklearn.tree import DecisionTreeClassifier, export_graphviz\n",
        "from sklearn.metrics import confusion_matrix, classification_report\n",
        "from sklearn.preprocessing import LabelEncoder\n",
        "import pydotplus\n",
        "from IPython.display import Image\n"
      ]
    },
    {
      "cell_type": "code",
      "execution_count": null,
      "metadata": {
        "id": "yHBBAhhIqzRh"
      },
      "outputs": [],
      "source": [
        "# Load the dataset (Addding the actual file path)\n",
        "data = pd.read_csv('apple_quality 2.csv')\n"
      ]
    },
    {
      "cell_type": "code",
      "execution_count": null,
      "metadata": {
        "colab": {
          "base_uri": "https://localhost:8080/"
        },
        "id": "0hfFtv0Vq5eH",
        "outputId": "f2785237-b23f-4ef5-aeba-138bd527bb19"
      },
      "outputs": [],
      "source": [
        "\n",
        "# Explore the dataset\n",
        "print(data.info())\n",
        "print(data.describe())"
      ]
    },
    {
      "cell_type": "code",
      "execution_count": null,
      "metadata": {
        "colab": {
          "base_uri": "https://localhost:8080/"
        },
        "id": "HyO05DyJq78Y",
        "outputId": "565ace7a-281d-4b79-83ac-567ac5044ea7"
      },
      "outputs": [],
      "source": [
        "print(\"Column Names:\", data.columns)"
      ]
    },
    {
      "cell_type": "code",
      "execution_count": null,
      "metadata": {
        "id": "Dz6dpR4tvCJw"
      },
      "outputs": [],
      "source": [
        "le = LabelEncoder()\n",
        "data['Quality'] = le.fit_transform(data['Quality'])"
      ]
    },
    {
      "cell_type": "code",
      "execution_count": null,
      "metadata": {
        "id": "JZT9laDksdQH"
      },
      "outputs": [],
      "source": [
        "  # Set up features and target variable\n",
        "X = data.drop('Quality', axis=1)  # Features\n",
        "y = data['Quality']  # Target variable"
      ]
    },
    {
      "cell_type": "code",
      "execution_count": null,
      "metadata": {
        "id": "JyLgHlxxuSR5"
      },
      "outputs": [],
      "source": [
        "# Split the data into training and testing sets\n",
        "X_train, X_test, y_train, y_test = train_test_split(X, y, test_size=0.2, random_state=42)"
      ]
    },
    {
      "cell_type": "code",
      "execution_count": null,
      "metadata": {
        "id": "09hyROh1rGnR"
      },
      "outputs": [],
      "source": [
        "# Create a Decision Tree model\n",
        "model = DecisionTreeClassifier()  # or DecisionTreeRegressor"
      ]
    },
    {
      "cell_type": "code",
      "execution_count": null,
      "metadata": {
        "colab": {
          "base_uri": "https://localhost:8080/",
          "height": 75
        },
        "id": "VQf-sQaXudli",
        "outputId": "205a766f-e9b0-442b-9dd8-c6b1f6d8cda8"
      },
      "outputs": [],
      "source": [
        "# Train the model\n",
        "model.fit(X_train, y_train)"
      ]
    },
    {
      "cell_type": "code",
      "execution_count": null,
      "metadata": {
        "colab": {
          "base_uri": "https://localhost:8080/",
          "height": 75
        },
        "id": "mDXMMaRrrLD2",
        "outputId": "547a42e1-9f87-4836-d735-b1748a302e5f"
      },
      "outputs": [],
      "source": [
        "# Train the model\n",
        "model.fit(X_train, y_train)"
      ]
    },
    {
      "cell_type": "code",
      "execution_count": null,
      "metadata": {
        "id": "2Bq9BXzarOYt"
      },
      "outputs": [],
      "source": [
        "# Make predictions\n",
        "y_pred = model.predict(X_test)"
      ]
    },
    {
      "cell_type": "code",
      "execution_count": null,
      "metadata": {
        "id": "hElP46ifrSG2"
      },
      "outputs": [],
      "source": [
        "# Evaluate the model\n",
        "conf_matrix = confusion_matrix(y_test, y_pred)  # or relevant evaluation metric for regression\n",
        "class_report = classification_report(y_test, y_pred)  # or relevant evaluation metric for regression"
      ]
    },
    {
      "cell_type": "code",
      "execution_count": null,
      "metadata": {
        "colab": {
          "base_uri": "https://localhost:8080/"
        },
        "id": "sITZBCourcBJ",
        "outputId": "fe9a6995-7a88-4878-9139-6859f33279d0"
      },
      "outputs": [],
      "source": [
        "# Print evaluation results\n",
        "print(\"Confusion Matrix:\")\n",
        "print(conf_matrix)\n",
        "print(\"\\nClassification Report:\")\n",
        "print(class_report)"
      ]
    },
    {
      "cell_type": "code",
      "execution_count": null,
      "metadata": {
        "colab": {
          "base_uri": "https://localhost:8080/"
        },
        "id": "Mfx8ja8a5Djz",
        "outputId": "fafd8ea7-8dcd-4e3d-d572-ffb741261bb1"
      },
      "outputs": [],
      "source": [
        "feature_names = X.columns\n",
        "dot_data = export_graphviz(model, out_file=None, feature_names=feature_names, filled=True, rounded=True, special_characters=True)\n",
        "graph = pydotplus.graph_from_dot_data(dot_data)\n",
        "graph.write_png('decision_tree.png')"
      ]
    },
    {
      "cell_type": "code",
      "execution_count": null,
      "metadata": {
        "colab": {
          "base_uri": "https://localhost:8080/",
          "height": 440
        },
        "id": "ZgBmwJ72AIv2",
        "outputId": "7f3381c6-cb6f-44c1-80b6-cc85db8ec952"
      },
      "outputs": [],
      "source": [
        "# Display the Decision Tree image\n",
        "Image(graph.create_png())"
      ]
    },
    {
      "cell_type": "markdown",
      "metadata": {
        "id": "bDHGoXzZqJPH"
      },
      "source": []
    }
  ],
  "metadata": {
    "colab": {
      "provenance": []
    },
    "kernelspec": {
      "display_name": "Python 3",
      "name": "python3"
    },
    "language_info": {
      "name": "python"
    }
  },
  "nbformat": 4,
  "nbformat_minor": 0
}
